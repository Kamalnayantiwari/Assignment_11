{
 "cells": [
  {
   "cell_type": "code",
   "execution_count": null,
   "id": "98df9e12",
   "metadata": {},
   "outputs": [],
   "source": [
    "Q1. Which function is used to open a file? What are the different modes of opening a file? Explain each mode of file opening."
   ]
  },
  {
   "cell_type": "code",
   "execution_count": null,
   "id": "d049c204",
   "metadata": {},
   "outputs": [],
   "source": [
    "The open() function is used to open a file. When opening a file, you can specify the mode in which the file should be opened. The different modes are:\n",
    "'r': Read mode is used when you only want to read the file. This is the default mode.\n",
    "'w': Write mode is used when you want to write to the file. If the file already exists, the content is truncated (deleted). If the file does not exist, a new file is created.\n",
    "'a': Append mode is used when you want to append data to the end of an existing file. If the file does not exist, a new file is created.\n",
    "'x': Exclusive creation mode is used when you want to create a new file but only if the file does not already exist. If the file exists, the FileExistsError is raised.\n",
    "'b': Binary mode is used when you want to read or write binary data. When used in combination with other modes, it should be appended as a suffix to the mode string. For example, 'wb' for write in binary mode, or 'rb' for read in binary mode.\n",
    "'t': Text mode is used when you want to read or write text data. When used in combination with other modes, it should be appended as a suffix to the mode string. For example, 'wt' for write in text mode, or 'rt' for read in text mode.\n",
    "Here's an example of opening a file in read mode:f = open(\"README.md\", \"r\")\n",
    "content =\n"
   ]
  },
  {
   "cell_type": "code",
   "execution_count": 2,
   "id": "a9c477fd",
   "metadata": {},
   "outputs": [
    {
     "ename": "FileNotFoundError",
     "evalue": "[Errno 2] No such file or directory: 'README.md'",
     "output_type": "error",
     "traceback": [
      "\u001b[0;31m---------------------------------------------------------------------------\u001b[0m",
      "\u001b[0;31mFileNotFoundError\u001b[0m                         Traceback (most recent call last)",
      "Cell \u001b[0;32mIn[2], line 1\u001b[0m\n\u001b[0;32m----> 1\u001b[0m f \u001b[38;5;241m=\u001b[39m \u001b[38;5;28;43mopen\u001b[39;49m\u001b[43m(\u001b[49m\u001b[38;5;124;43m\"\u001b[39;49m\u001b[38;5;124;43mREADME.md\u001b[39;49m\u001b[38;5;124;43m\"\u001b[39;49m\u001b[43m,\u001b[49m\u001b[43m \u001b[49m\u001b[38;5;124;43m\"\u001b[39;49m\u001b[38;5;124;43mr\u001b[39;49m\u001b[38;5;124;43m\"\u001b[39;49m\u001b[43m)\u001b[49m\n\u001b[1;32m      2\u001b[0m content \u001b[38;5;241m=\u001b[39m f\u001b[38;5;241m.\u001b[39mread()\n\u001b[1;32m      3\u001b[0m \u001b[38;5;28mprint\u001b[39m(content)\n",
      "File \u001b[0;32m/data/user/0/ru.iiec.pydroid3/files/aarch64-linux-android/lib/python3.9/site-packages/IPython/core/interactiveshell.py:282\u001b[0m, in \u001b[0;36m_modified_open\u001b[0;34m(file, *args, **kwargs)\u001b[0m\n\u001b[1;32m    275\u001b[0m \u001b[38;5;28;01mif\u001b[39;00m file \u001b[38;5;129;01min\u001b[39;00m {\u001b[38;5;241m0\u001b[39m, \u001b[38;5;241m1\u001b[39m, \u001b[38;5;241m2\u001b[39m}:\n\u001b[1;32m    276\u001b[0m     \u001b[38;5;28;01mraise\u001b[39;00m \u001b[38;5;167;01mValueError\u001b[39;00m(\n\u001b[1;32m    277\u001b[0m         \u001b[38;5;124mf\u001b[39m\u001b[38;5;124m\"\u001b[39m\u001b[38;5;124mIPython won\u001b[39m\u001b[38;5;124m'\u001b[39m\u001b[38;5;124mt let you open fd=\u001b[39m\u001b[38;5;132;01m{\u001b[39;00mfile\u001b[38;5;132;01m}\u001b[39;00m\u001b[38;5;124m by default \u001b[39m\u001b[38;5;124m\"\u001b[39m\n\u001b[1;32m    278\u001b[0m         \u001b[38;5;124m\"\u001b[39m\u001b[38;5;124mas it is likely to crash IPython. If you know what you are doing, \u001b[39m\u001b[38;5;124m\"\u001b[39m\n\u001b[1;32m    279\u001b[0m         \u001b[38;5;124m\"\u001b[39m\u001b[38;5;124myou can use builtins\u001b[39m\u001b[38;5;124m'\u001b[39m\u001b[38;5;124m open.\u001b[39m\u001b[38;5;124m\"\u001b[39m\n\u001b[1;32m    280\u001b[0m     )\n\u001b[0;32m--> 282\u001b[0m \u001b[38;5;28;01mreturn\u001b[39;00m io_open(file, \u001b[38;5;241m*\u001b[39margs, \u001b[38;5;241m*\u001b[39m\u001b[38;5;241m*\u001b[39mkwargs)\n",
      "\u001b[0;31mFileNotFoundError\u001b[0m: [Errno 2] No such file or directory: 'README.md'"
     ]
    }
   ],
   "source": [
    "f = open(\"README.md\", \"r\")\n",
    "content = f.read()\n",
    "print(content)\n",
    "f.close()"
   ]
  },
  {
   "cell_type": "code",
   "execution_count": null,
   "id": "bf23cf3e",
   "metadata": {},
   "outputs": [],
   "source": [
    "Q2. Why close() function is used? Why is it important to close a file?"
   ]
  },
  {
   "cell_type": "code",
   "execution_count": null,
   "id": "4ec324f7",
   "metadata": {},
   "outputs": [],
   "source": [
    "The close() function is used to close a file in Python. It's important to close a file after we're done with it because it frees up resources on your computer and ensures that the file's data is saved correctly.\n",
    "When a file is opened, the operating system reserves a specific amount of memory to hold the file's contents and to keep track of where you are in the file (known as the file pointer). This memory is not freed until the file is closed, which means that if you open a large number of files without closing them, your computer could run out of memory.\n",
    "Furthermore, when you write to a file, the data is not immediately saved to the file on your hard drive. Instead, it's temporarily stored in a buffer (a small area of memory) and is only saved to the file when the buffer is flushed (that is, when it's full or when the file is closed). If we don't close the file, the data in the buffer may be lost if the program terminates before the buffer is flushed.\n",
    "Therefore, it's a best practice to always close a file after we're done with it, to avoid running out of memory and to ensure that the file's data is saved correctly. This can be done using the close() method, as shown in the example I provided in my previous answer. Another way to ensure that a file is closed is to use a with statement, which automatically closes the file for you when the block of code is finished, even if an exception is raised:"
   ]
  },
  {
   "cell_type": "code",
   "execution_count": null,
   "id": "f0a7cc47",
   "metadata": {},
   "outputs": [],
   "source": [
    "Q3. Write a python program to create a text file. Write ‘I want to become a Data Scientist’ in that file. Then close the file. Open this file and read the content of the file."
   ]
  },
  {
   "cell_type": "code",
   "execution_count": 3,
   "id": "149d8e94",
   "metadata": {},
   "outputs": [
    {
     "name": "stdout",
     "output_type": "stream",
     "text": [
      "I want to become a Data Scientist\n"
     ]
    }
   ],
   "source": [
    "# Create the file and write to it\n",
    "with open(\"sample.txt\", \"w\") as file:\n",
    "    file.write(\"I want to become a Data Scientist\")\n",
    "# Read the contents of the file\n",
    "with open(\"sample.txt\", \"r\") as file:\n",
    "    content = file.read()\n",
    "    print(content)\n",
    "file.close()"
   ]
  },
  {
   "cell_type": "code",
   "execution_count": null,
   "id": "504cb5c2",
   "metadata": {},
   "outputs": [],
   "source": [
    "Q4. Explain the following with python code: read(), readline() and readlines()."
   ]
  },
  {
   "cell_type": "code",
   "execution_count": null,
   "id": "a4012fb6",
   "metadata": {},
   "outputs": [],
   "source": [
    "read()\n",
    "The read() method reads the entire contents of a file and returns it as a string. You can specify the number of characters you want to read as an optional parameter. If you don't specify a number, the entire file is read. Here's an example:"
   ]
  },
  {
   "cell_type": "code",
   "execution_count": 4,
   "id": "da9bfdcf",
   "metadata": {},
   "outputs": [
    {
     "name": "stdout",
     "output_type": "stream",
     "text": [
      "I want to become a Data Scientist\n"
     ]
    }
   ],
   "source": [
    "# Open a file for reading\n",
    "file = open('sample.txt', 'r')\n",
    "# Read the entire file\n",
    "content = file.read()\n",
    "# Close the file\n",
    "file.close()\n",
    "print(content)"
   ]
  },
  {
   "cell_type": "code",
   "execution_count": null,
   "id": "a3add71d",
   "metadata": {},
   "outputs": [],
   "source": [
    "The readline() method reads one line at a time from a file. Each time you call readline(), it reads the next line in the file. If you reach the end of the file, readline() will return an empty string. Here's an example:"
   ]
  },
  {
   "cell_type": "code",
   "execution_count": 5,
   "id": "ce831d6c",
   "metadata": {},
   "outputs": [
    {
     "name": "stdout",
     "output_type": "stream",
     "text": [
      "I want to become a Data Scientist\n",
      "\n"
     ]
    }
   ],
   "source": [
    "# Open a file for reading\n",
    "file = open('sample.txt', 'r')\n",
    "# Read the first line of the file\n",
    "line1 = file.readline()\n",
    "# Read the second line of the file\n",
    "line2 = file.readline()\n",
    "# Close the file\n",
    "file.close()\n",
    "print(line1)\n",
    "print(line2)"
   ]
  },
  {
   "cell_type": "code",
   "execution_count": null,
   "id": "eda80200",
   "metadata": {},
   "outputs": [],
   "source": [
    "The readlines() method reads all the lines in a file and returns them as a list of strings. Each string in the list represents a line in the file. Here's an example:"
   ]
  },
  {
   "cell_type": "code",
   "execution_count": 6,
   "id": "76765104",
   "metadata": {},
   "outputs": [
    {
     "name": "stdout",
     "output_type": "stream",
     "text": [
      "I want to become a Data Scientist\n"
     ]
    }
   ],
   "source": [
    "# Open a file for reading\n",
    "file = open('sample.txt', 'r')\n",
    "# Read all the lines in the file\n",
    "lines = file.readlines()\n",
    "# Close the file\n",
    "file.close()\n",
    "# Print each line in the list\n",
    "for line in lines:\n",
    "    print(line)"
   ]
  },
  {
   "cell_type": "code",
   "execution_count": null,
   "id": "fa670881",
   "metadata": {},
   "outputs": [],
   "source": [
    "Q5. Explain why with statement is used with open(). What is the advantage of using with statement and open() together?"
   ]
  },
  {
   "cell_type": "code",
   "execution_count": null,
   "id": "43ec9455",
   "metadata": {},
   "outputs": [],
   "source": [
    "In Python, the with statement is used in conjunction with open() function when working with files. The with statement is used to ensure that a file is closed automatically after the block of code inside the with statement is executed, regardless of whether the code finishes successfully or not. The with statement handles the closing of the file automatically, so you don't have to worry about it. The with statement opens the file and assigns it to the file variable. The block of code inside the with statement reads the contents of the file using the read() method, and prints it to the console. Once the block of code is done executing, the with statement automatically closes the file.\n",
    "The main advantage of using with statement and open() together is that it helps avoid common errors that can occur when working with files, such as forgetting to close a file after opening it or not handling exceptions properly. By using the with statement, you can ensure that the file is closed properly, even if an exception is raised during the execution of the block of code.\n",
    "In summary, using with statement and open() together provides a cleaner and safer way to work with files in Python, ensuring that files are properly opened and closed and making the code easier to read and maintain."
   ]
  },
  {
   "cell_type": "code",
   "execution_count": 7,
   "id": "e0800a80",
   "metadata": {},
   "outputs": [
    {
     "name": "stdout",
     "output_type": "stream",
     "text": [
      "I want to become a Data Scientist\n"
     ]
    }
   ],
   "source": [
    "with open('sample.txt', 'r') as file:\n",
    "    contents = file.read()\n",
    "    print(contents)"
   ]
  },
  {
   "cell_type": "code",
   "execution_count": null,
   "id": "214df37f",
   "metadata": {},
   "outputs": [],
   "source": [
    "Q6. Explain the write() and writelines() functions. Give a suitable example."
   ]
  },
  {
   "cell_type": "code",
   "execution_count": null,
   "id": "9fa02d43",
   "metadata": {},
   "outputs": [],
   "source": [
    "In Python, the write() and writelines() functions are used to write data to a file.\n",
    "write() function The write() function is used to write a string to a file. It takes a single argument, which is the string to be written to the file. Here's an example:"
   ]
  },
  {
   "cell_type": "code",
   "execution_count": null,
   "id": "2ef82655",
   "metadata": {},
   "outputs": [],
   "source": [
    "# Open a file for writing\n",
    "file = open('example.txt', 'w')\n",
    "# Write a string to the file\n",
    "file.write('Hello, world!\\n')\n",
    "# Close the file\n",
    "file.close()"
   ]
  },
  {
   "cell_type": "code",
   "execution_count": null,
   "id": "1c1040ff",
   "metadata": {},
   "outputs": [],
   "source": [
    "writelines() function The writelines() function is used to write a list of strings to a file. It takes a single argument, which is a list of strings to be written to the file. Here's an example:"
   ]
  },
  {
   "cell_type": "code",
   "execution_count": null,
   "id": "c1e34e97",
   "metadata": {},
   "outputs": [],
   "source": [
    "# Open a file for writing\n",
    "file = open('example.txt', 'w')\n",
    "# Write a list of strings to the file\n",
    "lines = ['Line 1\\n', 'Line 2\\n', 'Line 3\\n']\n",
    "file.writelines(lines)\n",
    "# Close the file\n",
    "file.close()"
   ]
  }
 ],
 "metadata": {
  "kernelspec": {
   "display_name": "Python 3 (ipykernel)",
   "language": "python",
   "name": "python3"
  },
  "language_info": {
   "codemirror_mode": {
    "name": "ipython",
    "version": 3
   },
   "file_extension": ".py",
   "mimetype": "text/x-python",
   "name": "python",
   "nbconvert_exporter": "python",
   "pygments_lexer": "ipython3",
   "version": "3.9.7"
  }
 },
 "nbformat": 4,
 "nbformat_minor": 5
}
